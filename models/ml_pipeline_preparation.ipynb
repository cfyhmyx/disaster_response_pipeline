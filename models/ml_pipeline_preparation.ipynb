{
 "cells": [
  {
   "cell_type": "markdown",
   "metadata": {},
   "source": [
    "# ML Pipeline Preparation\n",
    "Follow the instructions below to help you create your ML pipeline.\n",
    "### 1. Import libraries and load data from database.\n",
    "- Import Python libraries\n",
    "- Load dataset from database with [`read_sql_table`](https://pandas.pydata.org/pandas-docs/stable/generated/pandas.read_sql_table.html)\n",
    "- Define feature and target variables X and Y"
   ]
  },
  {
   "cell_type": "code",
   "execution_count": 1,
   "metadata": {},
   "outputs": [
    {
     "name": "stdout",
     "output_type": "stream",
     "text": [
      "[nltk_data] Downloading package punkt to /root/nltk_data...\n",
      "[nltk_data]   Unzipping tokenizers/punkt.zip.\n",
      "[nltk_data] Downloading package wordnet to /root/nltk_data...\n",
      "[nltk_data]   Unzipping corpora/wordnet.zip.\n"
     ]
    },
    {
     "data": {
      "text/plain": [
       "True"
      ]
     },
     "execution_count": 1,
     "metadata": {},
     "output_type": "execute_result"
    }
   ],
   "source": [
    "# import libraries\n",
    "import numpy as np\n",
    "import pandas as pd\n",
    "from sqlalchemy import create_engine\n",
    "import nltk\n",
    "from sklearn.pipeline import Pipeline\n",
    "from sklearn.model_selection import train_test_split\n",
    "from sklearn.metrics import classification_report\n",
    "from sklearn.metrics import confusion_matrix\n",
    "from sklearn.metrics import fbeta_score, make_scorer\n",
    "from sklearn.ensemble import RandomForestClassifier\n",
    "from sklearn.model_selection import GridSearchCV\n",
    "from sklearn.feature_extraction.text import TfidfTransformer, CountVectorizer\n",
    "from sklearn.multioutput import MultiOutputClassifier\n",
    "import pickle\n",
    "nltk.download('punkt')\n",
    "nltk.download('wordnet')"
   ]
  },
  {
   "cell_type": "code",
   "execution_count": 2,
   "metadata": {},
   "outputs": [
    {
     "data": {
      "text/html": [
       "<div>\n",
       "<style scoped>\n",
       "    .dataframe tbody tr th:only-of-type {\n",
       "        vertical-align: middle;\n",
       "    }\n",
       "\n",
       "    .dataframe tbody tr th {\n",
       "        vertical-align: top;\n",
       "    }\n",
       "\n",
       "    .dataframe thead th {\n",
       "        text-align: right;\n",
       "    }\n",
       "</style>\n",
       "<table border=\"1\" class=\"dataframe\">\n",
       "  <thead>\n",
       "    <tr style=\"text-align: right;\">\n",
       "      <th></th>\n",
       "      <th>id</th>\n",
       "      <th>message</th>\n",
       "      <th>original</th>\n",
       "      <th>genre</th>\n",
       "      <th>related</th>\n",
       "      <th>request</th>\n",
       "      <th>offer</th>\n",
       "      <th>aid_related</th>\n",
       "      <th>medical_help</th>\n",
       "      <th>medical_products</th>\n",
       "      <th>...</th>\n",
       "      <th>aid_centers</th>\n",
       "      <th>other_infrastructure</th>\n",
       "      <th>weather_related</th>\n",
       "      <th>floods</th>\n",
       "      <th>storm</th>\n",
       "      <th>fire</th>\n",
       "      <th>earthquake</th>\n",
       "      <th>cold</th>\n",
       "      <th>other_weather</th>\n",
       "      <th>direct_report</th>\n",
       "    </tr>\n",
       "  </thead>\n",
       "  <tbody>\n",
       "    <tr>\n",
       "      <th>0</th>\n",
       "      <td>2</td>\n",
       "      <td>Weather update - a cold front from Cuba that c...</td>\n",
       "      <td>Un front froid se retrouve sur Cuba ce matin. ...</td>\n",
       "      <td>direct</td>\n",
       "      <td>1</td>\n",
       "      <td>0</td>\n",
       "      <td>0</td>\n",
       "      <td>0</td>\n",
       "      <td>0</td>\n",
       "      <td>0</td>\n",
       "      <td>...</td>\n",
       "      <td>0</td>\n",
       "      <td>0</td>\n",
       "      <td>0</td>\n",
       "      <td>0</td>\n",
       "      <td>0</td>\n",
       "      <td>0</td>\n",
       "      <td>0</td>\n",
       "      <td>0</td>\n",
       "      <td>0</td>\n",
       "      <td>0</td>\n",
       "    </tr>\n",
       "    <tr>\n",
       "      <th>1</th>\n",
       "      <td>7</td>\n",
       "      <td>Is the Hurricane over or is it not over</td>\n",
       "      <td>Cyclone nan fini osinon li pa fini</td>\n",
       "      <td>direct</td>\n",
       "      <td>1</td>\n",
       "      <td>0</td>\n",
       "      <td>0</td>\n",
       "      <td>1</td>\n",
       "      <td>0</td>\n",
       "      <td>0</td>\n",
       "      <td>...</td>\n",
       "      <td>0</td>\n",
       "      <td>0</td>\n",
       "      <td>1</td>\n",
       "      <td>0</td>\n",
       "      <td>1</td>\n",
       "      <td>0</td>\n",
       "      <td>0</td>\n",
       "      <td>0</td>\n",
       "      <td>0</td>\n",
       "      <td>0</td>\n",
       "    </tr>\n",
       "    <tr>\n",
       "      <th>2</th>\n",
       "      <td>8</td>\n",
       "      <td>Looking for someone but no name</td>\n",
       "      <td>Patnm, di Maryani relem pou li banm nouvel li ...</td>\n",
       "      <td>direct</td>\n",
       "      <td>1</td>\n",
       "      <td>0</td>\n",
       "      <td>0</td>\n",
       "      <td>0</td>\n",
       "      <td>0</td>\n",
       "      <td>0</td>\n",
       "      <td>...</td>\n",
       "      <td>0</td>\n",
       "      <td>0</td>\n",
       "      <td>0</td>\n",
       "      <td>0</td>\n",
       "      <td>0</td>\n",
       "      <td>0</td>\n",
       "      <td>0</td>\n",
       "      <td>0</td>\n",
       "      <td>0</td>\n",
       "      <td>0</td>\n",
       "    </tr>\n",
       "    <tr>\n",
       "      <th>3</th>\n",
       "      <td>9</td>\n",
       "      <td>UN reports Leogane 80-90 destroyed. Only Hospi...</td>\n",
       "      <td>UN reports Leogane 80-90 destroyed. Only Hospi...</td>\n",
       "      <td>direct</td>\n",
       "      <td>1</td>\n",
       "      <td>1</td>\n",
       "      <td>0</td>\n",
       "      <td>1</td>\n",
       "      <td>0</td>\n",
       "      <td>1</td>\n",
       "      <td>...</td>\n",
       "      <td>0</td>\n",
       "      <td>0</td>\n",
       "      <td>0</td>\n",
       "      <td>0</td>\n",
       "      <td>0</td>\n",
       "      <td>0</td>\n",
       "      <td>0</td>\n",
       "      <td>0</td>\n",
       "      <td>0</td>\n",
       "      <td>0</td>\n",
       "    </tr>\n",
       "    <tr>\n",
       "      <th>4</th>\n",
       "      <td>12</td>\n",
       "      <td>says: west side of Haiti, rest of the country ...</td>\n",
       "      <td>facade ouest d Haiti et le reste du pays aujou...</td>\n",
       "      <td>direct</td>\n",
       "      <td>1</td>\n",
       "      <td>0</td>\n",
       "      <td>0</td>\n",
       "      <td>0</td>\n",
       "      <td>0</td>\n",
       "      <td>0</td>\n",
       "      <td>...</td>\n",
       "      <td>0</td>\n",
       "      <td>0</td>\n",
       "      <td>0</td>\n",
       "      <td>0</td>\n",
       "      <td>0</td>\n",
       "      <td>0</td>\n",
       "      <td>0</td>\n",
       "      <td>0</td>\n",
       "      <td>0</td>\n",
       "      <td>0</td>\n",
       "    </tr>\n",
       "  </tbody>\n",
       "</table>\n",
       "<p>5 rows × 39 columns</p>\n",
       "</div>"
      ],
      "text/plain": [
       "   id                                            message  \\\n",
       "0   2  Weather update - a cold front from Cuba that c...   \n",
       "1   7            Is the Hurricane over or is it not over   \n",
       "2   8                    Looking for someone but no name   \n",
       "3   9  UN reports Leogane 80-90 destroyed. Only Hospi...   \n",
       "4  12  says: west side of Haiti, rest of the country ...   \n",
       "\n",
       "                                            original   genre  related  \\\n",
       "0  Un front froid se retrouve sur Cuba ce matin. ...  direct        1   \n",
       "1                 Cyclone nan fini osinon li pa fini  direct        1   \n",
       "2  Patnm, di Maryani relem pou li banm nouvel li ...  direct        1   \n",
       "3  UN reports Leogane 80-90 destroyed. Only Hospi...  direct        1   \n",
       "4  facade ouest d Haiti et le reste du pays aujou...  direct        1   \n",
       "\n",
       "   request  offer  aid_related  medical_help  medical_products      ...        \\\n",
       "0        0      0            0             0                 0      ...         \n",
       "1        0      0            1             0                 0      ...         \n",
       "2        0      0            0             0                 0      ...         \n",
       "3        1      0            1             0                 1      ...         \n",
       "4        0      0            0             0                 0      ...         \n",
       "\n",
       "   aid_centers  other_infrastructure  weather_related  floods  storm  fire  \\\n",
       "0            0                     0                0       0      0     0   \n",
       "1            0                     0                1       0      1     0   \n",
       "2            0                     0                0       0      0     0   \n",
       "3            0                     0                0       0      0     0   \n",
       "4            0                     0                0       0      0     0   \n",
       "\n",
       "   earthquake  cold  other_weather  direct_report  \n",
       "0           0     0              0              0  \n",
       "1           0     0              0              0  \n",
       "2           0     0              0              0  \n",
       "3           0     0              0              0  \n",
       "4           0     0              0              0  \n",
       "\n",
       "[5 rows x 39 columns]"
      ]
     },
     "execution_count": 2,
     "metadata": {},
     "output_type": "execute_result"
    }
   ],
   "source": [
    "# load data from database\n",
    "engine = create_engine('sqlite:///disaster_data.db')\n",
    "df = pd.read_sql('SELECT * FROM disaster_data', engine)\n",
    "df.head()"
   ]
  },
  {
   "cell_type": "code",
   "execution_count": 3,
   "metadata": {},
   "outputs": [],
   "source": [
    "# load data from database\n",
    "X = df['message']\n",
    "Y = df.drop(['id', 'message', 'original', 'genre'], axis=1)"
   ]
  },
  {
   "cell_type": "markdown",
   "metadata": {},
   "source": [
    "### 2. Write a tokenization function to process your text data"
   ]
  },
  {
   "cell_type": "code",
   "execution_count": 4,
   "metadata": {},
   "outputs": [],
   "source": [
    "def tokenize(text):\n",
    "    tokens = nltk.word_tokenize(text)\n",
    "    lemmatizer = nltk.WordNetLemmatizer()\n",
    "    return [lemmatizer.lemmatize(w).lower().strip() for w in tokens]"
   ]
  },
  {
   "cell_type": "markdown",
   "metadata": {},
   "source": [
    "### 3. Build a machine learning pipeline\n",
    "This machine pipeline should take in the `message` column as input and output classification results on the other 36 categories in the dataset. You may find the [MultiOutputClassifier](http://scikit-learn.org/stable/modules/generated/sklearn.multioutput.MultiOutputClassifier.html) helpful for predicting multiple target variables."
   ]
  },
  {
   "cell_type": "code",
   "execution_count": 5,
   "metadata": {},
   "outputs": [],
   "source": [
    "pipeline = Pipeline([('vect', CountVectorizer(tokenizer = tokenize)),\n",
    "                     ('tfidf', TfidfTransformer()),\n",
    "                     ('clf', MultiOutputClassifier(RandomForestClassifier()))\n",
    "                     ])"
   ]
  },
  {
   "cell_type": "markdown",
   "metadata": {},
   "source": [
    "### 4. Train pipeline\n",
    "- Split data into train and test sets\n",
    "- Train pipeline"
   ]
  },
  {
   "cell_type": "code",
   "execution_count": 6,
   "metadata": {},
   "outputs": [
    {
     "data": {
      "text/plain": [
       "Pipeline(memory=None,\n",
       "     steps=[('vect', CountVectorizer(analyzer='word', binary=False, decode_error='strict',\n",
       "        dtype=<class 'numpy.int64'>, encoding='utf-8', input='content',\n",
       "        lowercase=True, max_df=1.0, max_features=None, min_df=1,\n",
       "        ngram_range=(1, 1), preprocessor=None, stop_words=None,\n",
       "        strip...oob_score=False, random_state=None, verbose=0,\n",
       "            warm_start=False),\n",
       "           n_jobs=1))])"
      ]
     },
     "execution_count": 6,
     "metadata": {},
     "output_type": "execute_result"
    }
   ],
   "source": [
    "X_train, X_test, y_train, y_test = train_test_split(X, Y)\n",
    "pipeline.fit(X_train, y_train)"
   ]
  },
  {
   "cell_type": "markdown",
   "metadata": {},
   "source": [
    "### 5. Test your model\n",
    "Report the f1 score, precision and recall for each output category of the dataset. You can do this by iterating through the columns and calling sklearn's `classification_report` on each."
   ]
  },
  {
   "cell_type": "code",
   "execution_count": 7,
   "metadata": {},
   "outputs": [
    {
     "name": "stdout",
     "output_type": "stream",
     "text": [
      "****************************************Train Data Report****************************************\n",
      "                        precision    recall  f1-score   support\n",
      "\n",
      "               related       0.99      1.00      0.99     15097\n",
      "               request       1.00      0.92      0.96      3318\n",
      "                 offer       0.99      0.76      0.86        90\n",
      "           aid_related       1.00      0.96      0.98      8126\n",
      "          medical_help       1.00      0.84      0.91      1600\n",
      "      medical_products       1.00      0.85      0.92       996\n",
      "     search_and_rescue       1.00      0.80      0.89       558\n",
      "              security       1.00      0.74      0.85       354\n",
      "              military       1.00      0.85      0.92       628\n",
      "                 water       1.00      0.92      0.96      1279\n",
      "                  food       1.00      0.93      0.96      2177\n",
      "               shelter       1.00      0.91      0.95      1736\n",
      "              clothing       1.00      0.85      0.92       300\n",
      "                 money       1.00      0.84      0.91       452\n",
      "        missing_people       1.00      0.80      0.89       233\n",
      "              refugees       1.00      0.82      0.90       677\n",
      "                 death       1.00      0.89      0.94       904\n",
      "             other_aid       1.00      0.83      0.90      2575\n",
      "infrastructure_related       1.00      0.80      0.89      1310\n",
      "             transport       1.00      0.80      0.89       915\n",
      "             buildings       1.00      0.86      0.92      1000\n",
      "           electricity       1.00      0.86      0.92       398\n",
      "                 tools       1.00      0.64      0.78       118\n",
      "             hospitals       1.00      0.69      0.82       207\n",
      "                 shops       1.00      0.77      0.87        93\n",
      "           aid_centers       1.00      0.68      0.81       242\n",
      "  other_infrastructure       1.00      0.79      0.88       891\n",
      "       weather_related       1.00      0.96      0.98      5481\n",
      "                floods       1.00      0.89      0.94      1654\n",
      "                 storm       1.00      0.94      0.97      1805\n",
      "                  fire       1.00      0.82      0.90       228\n",
      "            earthquake       1.00      0.96      0.98      1841\n",
      "                  cold       1.00      0.88      0.93       397\n",
      "         other_weather       1.00      0.82      0.90      1055\n",
      "         direct_report       1.00      0.91      0.95      3740\n",
      "\n",
      "           avg / total       1.00      0.92      0.96     62475\n",
      "\n",
      "****************************************Text Data Report****************************************\n",
      "                        precision    recall  f1-score   support\n",
      "\n",
      "               related       0.82      0.93      0.87      4997\n",
      "               request       0.84      0.38      0.52      1156\n",
      "                 offer       0.00      0.00      0.00        28\n",
      "           aid_related       0.76      0.52      0.62      2734\n",
      "          medical_help       0.57      0.06      0.11       484\n",
      "      medical_products       0.63      0.09      0.16       317\n",
      "     search_and_rescue       0.53      0.05      0.09       166\n",
      "              security       0.50      0.01      0.02       117\n",
      "              military       0.70      0.08      0.15       232\n",
      "                 water       0.85      0.22      0.34       393\n",
      "                  food       0.84      0.26      0.39       746\n",
      "               shelter       0.77      0.22      0.34       578\n",
      "              clothing       0.62      0.08      0.14       105\n",
      "                 money       0.71      0.03      0.06       152\n",
      "        missing_people       0.67      0.03      0.06        65\n",
      "              refugees       0.60      0.06      0.11       198\n",
      "                 death       0.81      0.10      0.18       290\n",
      "             other_aid       0.50      0.03      0.06       871\n",
      "infrastructure_related       0.50      0.01      0.01       395\n",
      "             transport       0.57      0.06      0.11       286\n",
      "             buildings       0.69      0.10      0.18       333\n",
      "           electricity       0.67      0.04      0.08       134\n",
      "                 tools       0.00      0.00      0.00        41\n",
      "             hospitals       0.00      0.00      0.00        76\n",
      "                 shops       0.00      0.00      0.00        27\n",
      "           aid_centers       0.00      0.00      0.00        67\n",
      "  other_infrastructure       0.00      0.00      0.00       260\n",
      "       weather_related       0.86      0.54      0.66      1816\n",
      "                floods       0.90      0.24      0.38       501\n",
      "                 storm       0.81      0.36      0.49       638\n",
      "                  fire       0.00      0.00      0.00        54\n",
      "            earthquake       0.89      0.66      0.76       614\n",
      "                  cold       0.76      0.12      0.21       133\n",
      "         other_weather       0.45      0.02      0.03       321\n",
      "         direct_report       0.81      0.30      0.44      1335\n",
      "\n",
      "           avg / total       0.75      0.45      0.51     20660\n",
      "\n"
     ]
    },
    {
     "name": "stderr",
     "output_type": "stream",
     "text": [
      "/opt/conda/lib/python3.6/site-packages/sklearn/metrics/classification.py:1135: UndefinedMetricWarning: Precision and F-score are ill-defined and being set to 0.0 in labels with no predicted samples.\n",
      "  'precision', 'predicted', average, warn_for)\n"
     ]
    }
   ],
   "source": [
    "print('****************************************Train Data Report****************************************')\n",
    "y_pred_train = pipeline.predict(X_train)\n",
    "print(classification_report(y_train.values, y_pred_train, target_names=Y.columns.values))\n",
    "print('****************************************Text Data Report****************************************')\n",
    "y_pred_test = pipeline.predict(X_test)\n",
    "print(classification_report(y_test.values, y_pred_test, target_names=Y.columns.values))"
   ]
  },
  {
   "cell_type": "markdown",
   "metadata": {},
   "source": [
    "### 6. Improve your model\n",
    "Use grid search to find better parameters. "
   ]
  },
  {
   "cell_type": "code",
   "execution_count": 8,
   "metadata": {},
   "outputs": [],
   "source": [
    "parameters = {\n",
    "    #'vect__ngram_range': ((1, 1), (1, 2)),\n",
    "    #'vect__max_df': (0.5, 0.75, 1.0),\n",
    "    #'vect__max_features': (None, 5000, 10000),\n",
    "    'tfidf__use_idf': (True, False),\n",
    "    #'clf__estimator__n_estimators': [50, 100, 200],\n",
    "    #'clf__estimator__min_samples_split': [2, 3, 4]\n",
    "}"
   ]
  },
  {
   "cell_type": "code",
   "execution_count": 9,
   "metadata": {},
   "outputs": [],
   "source": [
    "cv = GridSearchCV(pipeline, parameters, n_jobs=-1, verbose=1)"
   ]
  },
  {
   "cell_type": "code",
   "execution_count": 10,
   "metadata": {},
   "outputs": [
    {
     "name": "stdout",
     "output_type": "stream",
     "text": [
      "Fitting 3 folds for each of 2 candidates, totalling 6 fits\n"
     ]
    },
    {
     "name": "stderr",
     "output_type": "stream",
     "text": [
      "[Parallel(n_jobs=-1)]: Done   6 out of   6 | elapsed:  5.4min finished\n"
     ]
    },
    {
     "data": {
      "text/plain": [
       "GridSearchCV(cv=None, error_score='raise',\n",
       "       estimator=Pipeline(memory=None,\n",
       "     steps=[('vect', CountVectorizer(analyzer='word', binary=False, decode_error='strict',\n",
       "        dtype=<class 'numpy.int64'>, encoding='utf-8', input='content',\n",
       "        lowercase=True, max_df=1.0, max_features=None, min_df=1,\n",
       "        ngram_range=(1, 1), preprocessor=None, stop_words=None,\n",
       "        strip...oob_score=False, random_state=None, verbose=0,\n",
       "            warm_start=False),\n",
       "           n_jobs=1))]),\n",
       "       fit_params=None, iid=True, n_jobs=-1,\n",
       "       param_grid={'tfidf__use_idf': (True, False)},\n",
       "       pre_dispatch='2*n_jobs', refit=True, return_train_score='warn',\n",
       "       scoring=None, verbose=1)"
      ]
     },
     "execution_count": 10,
     "metadata": {},
     "output_type": "execute_result"
    }
   ],
   "source": [
    "cv.fit(X_train, y_train)"
   ]
  },
  {
   "cell_type": "markdown",
   "metadata": {},
   "source": [
    "### 7. Test your model\n",
    "Show the accuracy, precision, and recall of the tuned model.  \n",
    "\n",
    "Since this project focuses on code quality, process, and  pipelines, there is no minimum performance metric needed to pass. However, make sure to fine tune your models for accuracy, precision and recall to make your project stand out - especially for your portfolio!"
   ]
  },
  {
   "cell_type": "code",
   "execution_count": 11,
   "metadata": {},
   "outputs": [
    {
     "name": "stdout",
     "output_type": "stream",
     "text": [
      "****************************************Train Data Report****************************************\n",
      "                        precision    recall  f1-score   support\n",
      "\n",
      "               related       0.99      1.00      1.00     15097\n",
      "               request       1.00      0.92      0.96      3318\n",
      "                 offer       0.98      0.67      0.79        90\n",
      "           aid_related       1.00      0.97      0.98      8126\n",
      "          medical_help       1.00      0.87      0.93      1600\n",
      "      medical_products       1.00      0.85      0.92       996\n",
      "     search_and_rescue       1.00      0.76      0.86       558\n",
      "              security       1.00      0.75      0.85       354\n",
      "              military       1.00      0.87      0.93       628\n",
      "                 water       1.00      0.90      0.95      1279\n",
      "                  food       1.00      0.94      0.97      2177\n",
      "               shelter       1.00      0.91      0.95      1736\n",
      "              clothing       1.00      0.82      0.90       300\n",
      "                 money       1.00      0.84      0.91       452\n",
      "        missing_people       1.00      0.80      0.89       233\n",
      "              refugees       1.00      0.84      0.91       677\n",
      "                 death       1.00      0.87      0.93       904\n",
      "             other_aid       1.00      0.83      0.91      2575\n",
      "infrastructure_related       1.00      0.78      0.88      1310\n",
      "             transport       1.00      0.82      0.90       915\n",
      "             buildings       1.00      0.86      0.92      1000\n",
      "           electricity       1.00      0.83      0.91       398\n",
      "                 tools       1.00      0.75      0.86       118\n",
      "             hospitals       1.00      0.71      0.83       207\n",
      "                 shops       1.00      0.71      0.83        93\n",
      "           aid_centers       1.00      0.74      0.85       242\n",
      "  other_infrastructure       1.00      0.77      0.87       891\n",
      "       weather_related       1.00      0.96      0.98      5481\n",
      "                floods       1.00      0.90      0.94      1654\n",
      "                 storm       1.00      0.93      0.97      1805\n",
      "                  fire       1.00      0.79      0.88       228\n",
      "            earthquake       1.00      0.96      0.98      1841\n",
      "                  cold       1.00      0.88      0.94       397\n",
      "         other_weather       1.00      0.83      0.91      1055\n",
      "         direct_report       1.00      0.91      0.95      3740\n",
      "\n",
      "           avg / total       1.00      0.92      0.96     62475\n",
      "\n",
      "****************************************Text Data Report****************************************\n",
      "                        precision    recall  f1-score   support\n",
      "\n",
      "               related       0.82      0.94      0.87      4997\n",
      "               request       0.85      0.34      0.48      1156\n",
      "                 offer       0.00      0.00      0.00        28\n",
      "           aid_related       0.75      0.51      0.61      2734\n",
      "          medical_help       0.57      0.10      0.17       484\n",
      "      medical_products       0.73      0.08      0.14       317\n",
      "     search_and_rescue       0.62      0.06      0.11       166\n",
      "              security       1.00      0.01      0.02       117\n",
      "              military       0.74      0.10      0.17       232\n",
      "                 water       0.87      0.20      0.33       393\n",
      "                  food       0.83      0.29      0.43       746\n",
      "               shelter       0.80      0.21      0.33       578\n",
      "              clothing       0.88      0.07      0.12       105\n",
      "                 money       0.60      0.02      0.04       152\n",
      "        missing_people       0.00      0.00      0.00        65\n",
      "              refugees       0.64      0.08      0.14       198\n",
      "                 death       0.82      0.17      0.28       290\n",
      "             other_aid       0.48      0.03      0.06       871\n",
      "infrastructure_related       0.43      0.01      0.01       395\n",
      "             transport       0.78      0.10      0.17       286\n",
      "             buildings       0.68      0.05      0.09       333\n",
      "           electricity       0.67      0.03      0.06       134\n",
      "                 tools       0.00      0.00      0.00        41\n",
      "             hospitals       0.00      0.00      0.00        76\n",
      "                 shops       0.00      0.00      0.00        27\n",
      "           aid_centers       0.00      0.00      0.00        67\n",
      "  other_infrastructure       0.17      0.00      0.01       260\n",
      "       weather_related       0.84      0.54      0.66      1816\n",
      "                floods       0.89      0.24      0.38       501\n",
      "                 storm       0.82      0.33      0.47       638\n",
      "                  fire       0.00      0.00      0.00        54\n",
      "            earthquake       0.90      0.69      0.78       614\n",
      "                  cold       0.84      0.12      0.21       133\n",
      "         other_weather       0.55      0.03      0.06       321\n",
      "         direct_report       0.83      0.29      0.43      1335\n",
      "\n",
      "           avg / total       0.76      0.45      0.51     20660\n",
      "\n"
     ]
    },
    {
     "name": "stderr",
     "output_type": "stream",
     "text": [
      "/opt/conda/lib/python3.6/site-packages/sklearn/metrics/classification.py:1135: UndefinedMetricWarning: Precision and F-score are ill-defined and being set to 0.0 in labels with no predicted samples.\n",
      "  'precision', 'predicted', average, warn_for)\n"
     ]
    }
   ],
   "source": [
    "print('****************************************Train Data Report****************************************')\n",
    "y_pred_train = cv.predict(X_train)\n",
    "print(classification_report(y_train.values, y_pred_train, target_names=Y.columns.values))\n",
    "print('****************************************Text Data Report****************************************')\n",
    "y_pred_test = cv.predict(X_test)\n",
    "print(classification_report(y_test.values, y_pred_test, target_names=Y.columns.values))"
   ]
  },
  {
   "cell_type": "code",
   "execution_count": 12,
   "metadata": {},
   "outputs": [
    {
     "data": {
      "text/plain": [
       "{'tfidf__use_idf': True}"
      ]
     },
     "execution_count": 12,
     "metadata": {},
     "output_type": "execute_result"
    }
   ],
   "source": [
    "cv.best_params_"
   ]
  },
  {
   "cell_type": "markdown",
   "metadata": {},
   "source": [
    "### 8. Try improving your model further. Here are a few ideas:\n",
    "* try other machine learning algorithms\n",
    "* add other features besides the TF-IDF"
   ]
  },
  {
   "cell_type": "code",
   "execution_count": 13,
   "metadata": {},
   "outputs": [],
   "source": [
    "from sklearn.ensemble import GradientBoostingClassifier,AdaBoostClassifier"
   ]
  },
  {
   "cell_type": "code",
   "execution_count": 14,
   "metadata": {},
   "outputs": [],
   "source": [
    "pipeline_ada = Pipeline([('cvect', CountVectorizer(tokenizer = tokenize)),\n",
    "                     ('tfidf', TfidfTransformer()),\n",
    "                     ('clf', MultiOutputClassifier(AdaBoostClassifier()))\n",
    "                     ])"
   ]
  },
  {
   "cell_type": "code",
   "execution_count": 15,
   "metadata": {},
   "outputs": [
    {
     "data": {
      "text/plain": [
       "Pipeline(memory=None,\n",
       "     steps=[('cvect', CountVectorizer(analyzer='word', binary=False, decode_error='strict',\n",
       "        dtype=<class 'numpy.int64'>, encoding='utf-8', input='content',\n",
       "        lowercase=True, max_df=1.0, max_features=None, min_df=1,\n",
       "        ngram_range=(1, 1), preprocessor=None, stop_words=None,\n",
       "        stri...mator=None,\n",
       "          learning_rate=1.0, n_estimators=50, random_state=None),\n",
       "           n_jobs=1))])"
      ]
     },
     "execution_count": 15,
     "metadata": {},
     "output_type": "execute_result"
    }
   ],
   "source": [
    "pipeline_ada.fit(X_train, y_train)"
   ]
  },
  {
   "cell_type": "code",
   "execution_count": 16,
   "metadata": {},
   "outputs": [
    {
     "name": "stdout",
     "output_type": "stream",
     "text": [
      "****************************************Train Data Report****************************************\n",
      "                        precision    recall  f1-score   support\n",
      "\n",
      "               related       0.83      0.95      0.88     15097\n",
      "               request       0.79      0.54      0.64      3318\n",
      "                 offer       0.28      0.06      0.09        90\n",
      "           aid_related       0.77      0.61      0.68      8126\n",
      "          medical_help       0.67      0.27      0.39      1600\n",
      "      medical_products       0.73      0.36      0.48       996\n",
      "     search_and_rescue       0.68      0.22      0.33       558\n",
      "              security       0.43      0.06      0.11       354\n",
      "              military       0.66      0.36      0.46       628\n",
      "                 water       0.78      0.65      0.71      1279\n",
      "                  food       0.82      0.69      0.75      2177\n",
      "               shelter       0.81      0.53      0.64      1736\n",
      "              clothing       0.81      0.53      0.64       300\n",
      "                 money       0.65      0.33      0.44       452\n",
      "        missing_people       0.66      0.24      0.36       233\n",
      "              refugees       0.68      0.27      0.39       677\n",
      "                 death       0.78      0.51      0.62       904\n",
      "             other_aid       0.55      0.14      0.23      2575\n",
      "infrastructure_related       0.50      0.11      0.18      1310\n",
      "             transport       0.76      0.24      0.36       915\n",
      "             buildings       0.70      0.41      0.51      1000\n",
      "           electricity       0.65      0.28      0.39       398\n",
      "                 tools       0.40      0.10      0.16       118\n",
      "             hospitals       0.34      0.09      0.14       207\n",
      "                 shops       0.50      0.06      0.11        93\n",
      "           aid_centers       0.58      0.13      0.21       242\n",
      "  other_infrastructure       0.47      0.11      0.18       891\n",
      "       weather_related       0.86      0.66      0.75      5481\n",
      "                floods       0.87      0.58      0.69      1654\n",
      "                 storm       0.76      0.51      0.61      1805\n",
      "                  fire       0.77      0.32      0.45       228\n",
      "            earthquake       0.88      0.80      0.84      1841\n",
      "                  cold       0.79      0.42      0.55       397\n",
      "         other_weather       0.57      0.20      0.29      1055\n",
      "         direct_report       0.76      0.49      0.59      3740\n",
      "\n",
      "           avg / total       0.76      0.60      0.65     62475\n",
      "\n",
      "****************************************Text Data Report****************************************\n",
      "                        precision    recall  f1-score   support\n",
      "\n",
      "               related       0.82      0.95      0.88      4997\n",
      "               request       0.79      0.53      0.64      1156\n",
      "                 offer       0.00      0.00      0.00        28\n",
      "           aid_related       0.76      0.61      0.68      2734\n",
      "          medical_help       0.56      0.27      0.36       484\n",
      "      medical_products       0.67      0.33      0.45       317\n",
      "     search_and_rescue       0.62      0.19      0.29       166\n",
      "              security       0.19      0.04      0.07       117\n",
      "              military       0.55      0.27      0.36       232\n",
      "                 water       0.75      0.62      0.68       393\n",
      "                  food       0.79      0.67      0.73       746\n",
      "               shelter       0.77      0.51      0.61       578\n",
      "              clothing       0.60      0.35      0.44       105\n",
      "                 money       0.51      0.24      0.32       152\n",
      "        missing_people       0.50      0.14      0.22        65\n",
      "              refugees       0.51      0.24      0.33       198\n",
      "                 death       0.71      0.44      0.54       290\n",
      "             other_aid       0.55      0.14      0.22       871\n",
      "infrastructure_related       0.45      0.10      0.17       395\n",
      "             transport       0.71      0.19      0.30       286\n",
      "             buildings       0.66      0.40      0.50       333\n",
      "           electricity       0.52      0.28      0.37       134\n",
      "                 tools       0.00      0.00      0.00        41\n",
      "             hospitals       0.38      0.12      0.18        76\n",
      "                 shops       0.40      0.07      0.12        27\n",
      "           aid_centers       0.27      0.09      0.13        67\n",
      "  other_infrastructure       0.37      0.10      0.15       260\n",
      "       weather_related       0.86      0.66      0.75      1816\n",
      "                floods       0.86      0.55      0.67       501\n",
      "                 storm       0.77      0.53      0.63       638\n",
      "                  fire       0.52      0.26      0.35        54\n",
      "            earthquake       0.87      0.79      0.83       614\n",
      "                  cold       0.62      0.34      0.44       133\n",
      "         other_weather       0.47      0.18      0.26       321\n",
      "         direct_report       0.74      0.47      0.57      1335\n",
      "\n",
      "           avg / total       0.74      0.59      0.63     20660\n",
      "\n"
     ]
    }
   ],
   "source": [
    "print('****************************************Train Data Report****************************************')\n",
    "y_pred_train = pipeline_ada.predict(X_train)\n",
    "print(classification_report(y_train.values, y_pred_train, target_names=Y.columns.values))\n",
    "print('****************************************Text Data Report****************************************')\n",
    "y_pred_test = pipeline_ada.predict(X_test)\n",
    "print(classification_report(y_test.values, y_pred_test, target_names=Y.columns.values))"
   ]
  },
  {
   "cell_type": "code",
   "execution_count": 17,
   "metadata": {},
   "outputs": [
    {
     "data": {
      "text/plain": [
       "Pipeline(memory=None,\n",
       "     steps=[('cvect', CountVectorizer(analyzer='word', binary=False, decode_error='strict',\n",
       "        dtype=<class 'numpy.int64'>, encoding='utf-8', input='content',\n",
       "        lowercase=True, max_df=1.0, max_features=None, min_df=1,\n",
       "        ngram_range=(1, 1), preprocessor=None, stop_words=None,\n",
       "        stri...random_state=None, subsample=1.0, verbose=0,\n",
       "              warm_start=False),\n",
       "           n_jobs=1))])"
      ]
     },
     "execution_count": 17,
     "metadata": {},
     "output_type": "execute_result"
    }
   ],
   "source": [
    "pipeline_grad = Pipeline([('cvect', CountVectorizer(tokenizer = tokenize)),\n",
    "                     ('tfidf', TfidfTransformer()),\n",
    "                     ('clf', MultiOutputClassifier(GradientBoostingClassifier()))\n",
    "                     ])\n",
    "\n",
    "pipeline_grad.fit(X_train, y_train)"
   ]
  },
  {
   "cell_type": "code",
   "execution_count": 18,
   "metadata": {},
   "outputs": [
    {
     "name": "stdout",
     "output_type": "stream",
     "text": [
      "****************************************Train Data Report****************************************\n",
      "                        precision    recall  f1-score   support\n",
      "\n",
      "               related       0.83      0.95      0.88     15097\n",
      "               request       0.79      0.54      0.64      3318\n",
      "                 offer       0.28      0.06      0.09        90\n",
      "           aid_related       0.77      0.61      0.68      8126\n",
      "          medical_help       0.67      0.27      0.39      1600\n",
      "      medical_products       0.73      0.36      0.48       996\n",
      "     search_and_rescue       0.68      0.22      0.33       558\n",
      "              security       0.43      0.06      0.11       354\n",
      "              military       0.66      0.36      0.46       628\n",
      "                 water       0.78      0.65      0.71      1279\n",
      "                  food       0.82      0.69      0.75      2177\n",
      "               shelter       0.81      0.53      0.64      1736\n",
      "              clothing       0.81      0.53      0.64       300\n",
      "                 money       0.65      0.33      0.44       452\n",
      "        missing_people       0.66      0.24      0.36       233\n",
      "              refugees       0.68      0.27      0.39       677\n",
      "                 death       0.78      0.51      0.62       904\n",
      "             other_aid       0.55      0.14      0.23      2575\n",
      "infrastructure_related       0.50      0.11      0.18      1310\n",
      "             transport       0.76      0.24      0.36       915\n",
      "             buildings       0.70      0.41      0.51      1000\n",
      "           electricity       0.65      0.28      0.39       398\n",
      "                 tools       0.40      0.10      0.16       118\n",
      "             hospitals       0.34      0.09      0.14       207\n",
      "                 shops       0.50      0.06      0.11        93\n",
      "           aid_centers       0.58      0.13      0.21       242\n",
      "  other_infrastructure       0.47      0.11      0.18       891\n",
      "       weather_related       0.86      0.66      0.75      5481\n",
      "                floods       0.87      0.58      0.69      1654\n",
      "                 storm       0.76      0.51      0.61      1805\n",
      "                  fire       0.77      0.32      0.45       228\n",
      "            earthquake       0.88      0.80      0.84      1841\n",
      "                  cold       0.79      0.42      0.55       397\n",
      "         other_weather       0.57      0.20      0.29      1055\n",
      "         direct_report       0.76      0.49      0.59      3740\n",
      "\n",
      "           avg / total       0.76      0.60      0.65     62475\n",
      "\n",
      "****************************************Text Data Report****************************************\n",
      "                        precision    recall  f1-score   support\n",
      "\n",
      "               related       0.82      0.95      0.88      4997\n",
      "               request       0.79      0.53      0.64      1156\n",
      "                 offer       0.00      0.00      0.00        28\n",
      "           aid_related       0.76      0.61      0.68      2734\n",
      "          medical_help       0.56      0.27      0.36       484\n",
      "      medical_products       0.67      0.33      0.45       317\n",
      "     search_and_rescue       0.62      0.19      0.29       166\n",
      "              security       0.19      0.04      0.07       117\n",
      "              military       0.55      0.27      0.36       232\n",
      "                 water       0.75      0.62      0.68       393\n",
      "                  food       0.79      0.67      0.73       746\n",
      "               shelter       0.77      0.51      0.61       578\n",
      "              clothing       0.60      0.35      0.44       105\n",
      "                 money       0.51      0.24      0.32       152\n",
      "        missing_people       0.50      0.14      0.22        65\n",
      "              refugees       0.51      0.24      0.33       198\n",
      "                 death       0.71      0.44      0.54       290\n",
      "             other_aid       0.55      0.14      0.22       871\n",
      "infrastructure_related       0.45      0.10      0.17       395\n",
      "             transport       0.71      0.19      0.30       286\n",
      "             buildings       0.66      0.40      0.50       333\n",
      "           electricity       0.52      0.28      0.37       134\n",
      "                 tools       0.00      0.00      0.00        41\n",
      "             hospitals       0.38      0.12      0.18        76\n",
      "                 shops       0.40      0.07      0.12        27\n",
      "           aid_centers       0.27      0.09      0.13        67\n",
      "  other_infrastructure       0.37      0.10      0.15       260\n",
      "       weather_related       0.86      0.66      0.75      1816\n",
      "                floods       0.86      0.55      0.67       501\n",
      "                 storm       0.77      0.53      0.63       638\n",
      "                  fire       0.52      0.26      0.35        54\n",
      "            earthquake       0.87      0.79      0.83       614\n",
      "                  cold       0.62      0.34      0.44       133\n",
      "         other_weather       0.47      0.18      0.26       321\n",
      "         direct_report       0.74      0.47      0.57      1335\n",
      "\n",
      "           avg / total       0.74      0.59      0.63     20660\n",
      "\n"
     ]
    }
   ],
   "source": [
    "print('****************************************Train Data Report****************************************')\n",
    "print(classification_report(y_train.values, y_pred_train, target_names=Y.columns.values))\n",
    "print('****************************************Text Data Report****************************************')\n",
    "print(classification_report(y_test.values, y_pred_test, target_names=Y.columns.values))"
   ]
  },
  {
   "cell_type": "markdown",
   "metadata": {},
   "source": [
    "### 9. Export your model as a pickle file"
   ]
  },
  {
   "cell_type": "code",
   "execution_count": 20,
   "metadata": {},
   "outputs": [],
   "source": [
    "filename = 'classifier.sav'\n",
    "pickle.dump(cv, open(filename, 'wb'))"
   ]
  },
  {
   "cell_type": "markdown",
   "metadata": {},
   "source": [
    "### 10. Use this notebook to complete `train.py`\n",
    "Use the template file attached in the Resources folder to write a script that runs the steps above to create a database and export a model based on a new dataset specified by the user."
   ]
  },
  {
   "cell_type": "code",
   "execution_count": null,
   "metadata": {},
   "outputs": [],
   "source": []
  }
 ],
 "metadata": {
  "kernelspec": {
   "display_name": "Python 3",
   "language": "python",
   "name": "python3"
  },
  "language_info": {
   "codemirror_mode": {
    "name": "ipython",
    "version": 3
   },
   "file_extension": ".py",
   "mimetype": "text/x-python",
   "name": "python",
   "nbconvert_exporter": "python",
   "pygments_lexer": "ipython3",
   "version": "3.6.3"
  }
 },
 "nbformat": 4,
 "nbformat_minor": 2
}
